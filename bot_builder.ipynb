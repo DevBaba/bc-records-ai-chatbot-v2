{
 "cells": [
  {
   "cell_type": "code",
   "execution_count": 2,
   "id": "0017340a",
   "metadata": {},
   "outputs": [
    {
     "name": "stdout",
     "output_type": "stream",
     "text": [
      "Requirement already satisfied: dfcx-scrapi in ./venv/lib/python3.11/site-packages (1.9.0)\n",
      "Requirement already satisfied: tabulate in ./venv/lib/python3.11/site-packages (0.9.0)\n",
      "Requirement already satisfied: gspread_dataframe in ./venv/lib/python3.11/site-packages (3.3.1)\n",
      "Requirement already satisfied: google-cloud-dialogflow-cx in ./venv/lib/python3.11/site-packages (from dfcx-scrapi) (1.28.0)\n",
      "Requirement already satisfied: gspread>=3.0.0 in ./venv/lib/python3.11/site-packages (from gspread_dataframe) (5.10.0)\n",
      "Requirement already satisfied: pandas>=0.24.0 in ./venv/lib/python3.11/site-packages (from gspread_dataframe) (2.1.3)\n",
      "Requirement already satisfied: six>=1.12.0 in ./venv/lib/python3.11/site-packages (from gspread_dataframe) (1.16.0)\n",
      "Requirement already satisfied: google-auth>=1.12.0 in ./venv/lib/python3.11/site-packages (from gspread>=3.0.0->gspread_dataframe) (2.23.4)\n",
      "Requirement already satisfied: google-auth-oauthlib>=0.4.1 in ./venv/lib/python3.11/site-packages (from gspread>=3.0.0->gspread_dataframe) (1.1.0)\n",
      "Requirement already satisfied: numpy<2,>=1.23.2 in ./venv/lib/python3.11/site-packages (from pandas>=0.24.0->gspread_dataframe) (1.26.2)\n",
      "Requirement already satisfied: python-dateutil>=2.8.2 in ./venv/lib/python3.11/site-packages (from pandas>=0.24.0->gspread_dataframe) (2.8.2)\n",
      "Requirement already satisfied: pytz>=2020.1 in ./venv/lib/python3.11/site-packages (from pandas>=0.24.0->gspread_dataframe) (2023.3.post1)\n",
      "Requirement already satisfied: tzdata>=2022.1 in ./venv/lib/python3.11/site-packages (from pandas>=0.24.0->gspread_dataframe) (2023.3)\n",
      "Requirement already satisfied: google-api-core!=2.0.*,!=2.1.*,!=2.10.*,!=2.2.*,!=2.3.*,!=2.4.*,!=2.5.*,!=2.6.*,!=2.7.*,!=2.8.*,!=2.9.*,<3.0.0dev,>=1.34.0 in ./venv/lib/python3.11/site-packages (from google-api-core[grpc]!=2.0.*,!=2.1.*,!=2.10.*,!=2.2.*,!=2.3.*,!=2.4.*,!=2.5.*,!=2.6.*,!=2.7.*,!=2.8.*,!=2.9.*,<3.0.0dev,>=1.34.0->google-cloud-dialogflow-cx->dfcx-scrapi) (2.14.0)\n",
      "Requirement already satisfied: proto-plus<2.0.0dev,>=1.22.0 in ./venv/lib/python3.11/site-packages (from google-cloud-dialogflow-cx->dfcx-scrapi) (1.22.3)\n",
      "Requirement already satisfied: protobuf!=3.20.0,!=3.20.1,!=4.21.0,!=4.21.1,!=4.21.2,!=4.21.3,!=4.21.4,!=4.21.5,<5.0.0dev,>=3.19.5 in ./venv/lib/python3.11/site-packages (from google-cloud-dialogflow-cx->dfcx-scrapi) (4.25.1)\n",
      "Requirement already satisfied: googleapis-common-protos<2.0.dev0,>=1.56.2 in ./venv/lib/python3.11/site-packages (from google-api-core!=2.0.*,!=2.1.*,!=2.10.*,!=2.2.*,!=2.3.*,!=2.4.*,!=2.5.*,!=2.6.*,!=2.7.*,!=2.8.*,!=2.9.*,<3.0.0dev,>=1.34.0->google-api-core[grpc]!=2.0.*,!=2.1.*,!=2.10.*,!=2.2.*,!=2.3.*,!=2.4.*,!=2.5.*,!=2.6.*,!=2.7.*,!=2.8.*,!=2.9.*,<3.0.0dev,>=1.34.0->google-cloud-dialogflow-cx->dfcx-scrapi) (1.61.0)\n",
      "Requirement already satisfied: requests<3.0.0.dev0,>=2.18.0 in ./venv/lib/python3.11/site-packages (from google-api-core!=2.0.*,!=2.1.*,!=2.10.*,!=2.2.*,!=2.3.*,!=2.4.*,!=2.5.*,!=2.6.*,!=2.7.*,!=2.8.*,!=2.9.*,<3.0.0dev,>=1.34.0->google-api-core[grpc]!=2.0.*,!=2.1.*,!=2.10.*,!=2.2.*,!=2.3.*,!=2.4.*,!=2.5.*,!=2.6.*,!=2.7.*,!=2.8.*,!=2.9.*,<3.0.0dev,>=1.34.0->google-cloud-dialogflow-cx->dfcx-scrapi) (2.31.0)\n",
      "Requirement already satisfied: grpcio<2.0dev,>=1.33.2 in ./venv/lib/python3.11/site-packages (from google-api-core[grpc]!=2.0.*,!=2.1.*,!=2.10.*,!=2.2.*,!=2.3.*,!=2.4.*,!=2.5.*,!=2.6.*,!=2.7.*,!=2.8.*,!=2.9.*,<3.0.0dev,>=1.34.0->google-cloud-dialogflow-cx->dfcx-scrapi) (1.59.3)\n",
      "Requirement already satisfied: grpcio-status<2.0.dev0,>=1.33.2 in ./venv/lib/python3.11/site-packages (from google-api-core[grpc]!=2.0.*,!=2.1.*,!=2.10.*,!=2.2.*,!=2.3.*,!=2.4.*,!=2.5.*,!=2.6.*,!=2.7.*,!=2.8.*,!=2.9.*,<3.0.0dev,>=1.34.0->google-cloud-dialogflow-cx->dfcx-scrapi) (1.59.3)\n",
      "Requirement already satisfied: cachetools<6.0,>=2.0.0 in ./venv/lib/python3.11/site-packages (from google-auth>=1.12.0->gspread>=3.0.0->gspread_dataframe) (5.3.2)\n",
      "Requirement already satisfied: pyasn1-modules>=0.2.1 in ./venv/lib/python3.11/site-packages (from google-auth>=1.12.0->gspread>=3.0.0->gspread_dataframe) (0.3.0)\n",
      "Requirement already satisfied: rsa<5,>=3.1.4 in ./venv/lib/python3.11/site-packages (from google-auth>=1.12.0->gspread>=3.0.0->gspread_dataframe) (4.9)\n",
      "Requirement already satisfied: requests-oauthlib>=0.7.0 in ./venv/lib/python3.11/site-packages (from google-auth-oauthlib>=0.4.1->gspread>=3.0.0->gspread_dataframe) (1.3.1)\n",
      "Requirement already satisfied: pyasn1<0.6.0,>=0.4.6 in ./venv/lib/python3.11/site-packages (from pyasn1-modules>=0.2.1->google-auth>=1.12.0->gspread>=3.0.0->gspread_dataframe) (0.5.1)\n",
      "Requirement already satisfied: charset-normalizer<4,>=2 in ./venv/lib/python3.11/site-packages (from requests<3.0.0.dev0,>=2.18.0->google-api-core!=2.0.*,!=2.1.*,!=2.10.*,!=2.2.*,!=2.3.*,!=2.4.*,!=2.5.*,!=2.6.*,!=2.7.*,!=2.8.*,!=2.9.*,<3.0.0dev,>=1.34.0->google-api-core[grpc]!=2.0.*,!=2.1.*,!=2.10.*,!=2.2.*,!=2.3.*,!=2.4.*,!=2.5.*,!=2.6.*,!=2.7.*,!=2.8.*,!=2.9.*,<3.0.0dev,>=1.34.0->google-cloud-dialogflow-cx->dfcx-scrapi) (3.3.2)\n",
      "Requirement already satisfied: idna<4,>=2.5 in ./venv/lib/python3.11/site-packages (from requests<3.0.0.dev0,>=2.18.0->google-api-core!=2.0.*,!=2.1.*,!=2.10.*,!=2.2.*,!=2.3.*,!=2.4.*,!=2.5.*,!=2.6.*,!=2.7.*,!=2.8.*,!=2.9.*,<3.0.0dev,>=1.34.0->google-api-core[grpc]!=2.0.*,!=2.1.*,!=2.10.*,!=2.2.*,!=2.3.*,!=2.4.*,!=2.5.*,!=2.6.*,!=2.7.*,!=2.8.*,!=2.9.*,<3.0.0dev,>=1.34.0->google-cloud-dialogflow-cx->dfcx-scrapi) (3.6)\n",
      "Requirement already satisfied: urllib3<3,>=1.21.1 in ./venv/lib/python3.11/site-packages (from requests<3.0.0.dev0,>=2.18.0->google-api-core!=2.0.*,!=2.1.*,!=2.10.*,!=2.2.*,!=2.3.*,!=2.4.*,!=2.5.*,!=2.6.*,!=2.7.*,!=2.8.*,!=2.9.*,<3.0.0dev,>=1.34.0->google-api-core[grpc]!=2.0.*,!=2.1.*,!=2.10.*,!=2.2.*,!=2.3.*,!=2.4.*,!=2.5.*,!=2.6.*,!=2.7.*,!=2.8.*,!=2.9.*,<3.0.0dev,>=1.34.0->google-cloud-dialogflow-cx->dfcx-scrapi) (2.1.0)\n",
      "Requirement already satisfied: certifi>=2017.4.17 in ./venv/lib/python3.11/site-packages (from requests<3.0.0.dev0,>=2.18.0->google-api-core!=2.0.*,!=2.1.*,!=2.10.*,!=2.2.*,!=2.3.*,!=2.4.*,!=2.5.*,!=2.6.*,!=2.7.*,!=2.8.*,!=2.9.*,<3.0.0dev,>=1.34.0->google-api-core[grpc]!=2.0.*,!=2.1.*,!=2.10.*,!=2.2.*,!=2.3.*,!=2.4.*,!=2.5.*,!=2.6.*,!=2.7.*,!=2.8.*,!=2.9.*,<3.0.0dev,>=1.34.0->google-cloud-dialogflow-cx->dfcx-scrapi) (2023.11.17)\n",
      "Requirement already satisfied: oauthlib>=3.0.0 in ./venv/lib/python3.11/site-packages (from requests-oauthlib>=0.7.0->google-auth-oauthlib>=0.4.1->gspread>=3.0.0->gspread_dataframe) (3.2.2)\n"
     ]
    }
   ],
   "source": [
    "# install required dependencies for jn kernal and restart\n",
    "!pip install dfcx-scrapi tabulate gspread_dataframe"
   ]
  },
  {
   "cell_type": "code",
   "execution_count": 1,
   "id": "7fb680e3",
   "metadata": {},
   "outputs": [],
   "source": [
    "# data manipulation modules\n",
    "import pandas as pd\n",
    "import numpy as np\n",
    "\n",
    "# general python modules\n",
    "import json\n",
    "import csv\n",
    "import io \n",
    "\n",
    "\n",
    "# dialogflow cx imports\n",
    "from dfcx_scrapi.core.agents import Agents\n",
    "from dfcx_scrapi.core.intents import Intents\n",
    "from dfcx_scrapi.core.flows import Flows\n",
    "from dfcx_scrapi.core.pages import Pages\n",
    "from dfcx_scrapi.tools.dataframe_functions import DataframeFunctions\n",
    "from dfcx_scrapi.tools.maker_util import MakerUtil\n",
    "\n",
    "# For connect to google sheet\n",
    "import gspread\n",
    "from oauth2client.service_account import ServiceAccountCredentials\n",
    "from df2gspread import df2gspread as d2g\n"
   ]
  },
  {
   "cell_type": "code",
   "execution_count": 2,
   "id": "360cf42e",
   "metadata": {},
   "outputs": [
    {
     "name": "stdout",
     "output_type": "stream",
     "text": [
      "<Cell R1C2 'bot1-404120'>\n"
     ]
    }
   ],
   "source": [
    "# service account scopes\n",
    "# master systems analysis and design dxfc g-sheets workbook... Can be viewed and copied at https://itrau.co/dfcx-sad\n",
    "\n",
    "scope = ['https://www.googleapis.com/auth/spreadsheets','https://www.googleapis.com/auth/drive']\n",
    "\n",
    "\n",
    "#authorize sa\n",
    "credentials = ServiceAccountCredentials.from_json_keyfile_name('/Users/christophertrauco/.config/secrets/cx_admin_sa.json', scope)\n",
    "client = gspread.authorize(credentials)\n",
    "spreadsheet_key = '1N10vIxxT9nJShDDNbFvIAxcCOe8vLhoZ_8Ex3lsGc_c'\n",
    "sh = client.open_by_key(spreadsheet_key)\n",
    "project_id = sh.worksheet('Main').acell('B1')\n",
    "print(project_id)\n",
    "# master systems analysis and design dxfc g-sheets workbook... Can be viewed and copied at https://itrau.co/dfcx-sad\n"
   ]
  },
  {
   "cell_type": "code",
   "execution_count": null,
   "id": "a7d9b888",
   "metadata": {},
   "outputs": [],
   "source": []
  },
  {
   "cell_type": "code",
   "execution_count": 3,
   "id": "621c28c2",
   "metadata": {
    "scrolled": true
   },
   "outputs": [
    {
     "name": "stdout",
     "output_type": "stream",
     "text": [
      "The sheet is updated successfully\n"
     ]
    }
   ],
   "source": [
    "# local scripts for stdin and stdout via gcloud \n",
    "!gcloud projects list > input.csv\n",
    "\n",
    "!sed 's/[:blank:]+/,/g' input.csv > output.csv\n",
    "\n",
    "file = 'output'\n",
    "\n",
    "data = f'{file}.csv'\n",
    "df = pd.read_csv(data)\n",
    "\n",
    "# write gcp projects to sad dfcx workbook\n",
    "\n",
    "wks_name = 'Projects'\n",
    "cell_of_start_df = 'A1'\n",
    "# upload the dataframe of the clients we want to delete\n",
    "d2g.upload(df,\n",
    "           spreadsheet_key,\n",
    "           wks_name,\n",
    "           credentials=credentials,\n",
    "           col_names=True,\n",
    "           row_names=False,\n",
    "           start_cell = cell_of_start_df,\n",
    "           clean=False)\n",
    "print ('The sheet is updated successfully')"
   ]
  },
  {
   "cell_type": "code",
   "execution_count": 26,
   "id": "b867094d",
   "metadata": {},
   "outputs": [
    {
     "name": "stdout",
     "output_type": "stream",
     "text": [
      "bot1-404120 i-see-dead-people global\n"
     ]
    }
   ],
   "source": [
    "project_id = sh.worksheet('Main').acell('B1').value\n",
    "display_name = sh.worksheet('Main').acell('B2').value\n",
    "gcp_region = sh.worksheet('Main').acell('B3').value\n",
    "zone = sh.worksheet('Main').acell('B4').value\n",
    "language = sh.worksheet('Main').acell('B5').value\n",
    "time_zone = sh.worksheet('Main').acell('B6').value\n",
    "creds_path = sh.worksheet('Main').acell('B8').value\n",
    "\n",
    "print(project_id, display_name, gcp_region)"
   ]
  },
  {
   "cell_type": "code",
   "execution_count": 27,
   "id": "fe26f6e7",
   "metadata": {},
   "outputs": [],
   "source": [
    "\n",
    "# First we will instansiate our Agent object\n",
    "a = Agents(creds_path=creds_path)\n",
    "\n",
    "# Then we will call the `create_agent` method and capture the result in a var call `my_agent`\n",
    "my_agent = a.create_agent(project_id, display_name, gcp_region)"
   ]
  },
  {
   "cell_type": "code",
   "execution_count": 28,
   "id": "0390468a",
   "metadata": {},
   "outputs": [
    {
     "name": "stdout",
     "output_type": "stream",
     "text": [
      "name: \"projects/bot1-404120/locations/global/agents/694bb9af-b694-43a2-b55e-7efbf1216ce1\"\n",
      "display_name: \"i-see-dead-people\"\n",
      "default_language_code: \"en\"\n",
      "time_zone: \"America/Chicago\"\n",
      "start_flow: \"projects/bot1-404120/locations/global/agents/694bb9af-b694-43a2-b55e-7efbf1216ce1/flows/00000000-0000-0000-0000-000000000000\"\n",
      "advanced_settings {\n",
      "  logging_settings {\n",
      "  }\n",
      "}\n",
      "\n"
     ]
    }
   ],
   "source": [
    "print(my_agent)"
   ]
  },
  {
   "cell_type": "code",
   "execution_count": null,
   "id": "883cb336",
   "metadata": {},
   "outputs": [],
   "source": []
  }
 ],
 "metadata": {
  "kernelspec": {
   "display_name": "Python 3 (ipykernel)",
   "language": "python",
   "name": "python3"
  },
  "language_info": {
   "codemirror_mode": {
    "name": "ipython",
    "version": 3
   },
   "file_extension": ".py",
   "mimetype": "text/x-python",
   "name": "python",
   "nbconvert_exporter": "python",
   "pygments_lexer": "ipython3",
   "version": "3.11.6"
  }
 },
 "nbformat": 4,
 "nbformat_minor": 5
}
