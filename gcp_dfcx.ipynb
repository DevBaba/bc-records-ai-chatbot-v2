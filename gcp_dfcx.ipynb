{
 "cells": [
  {
   "cell_type": "code",
   "execution_count": 1,
   "id": "4f2789ff",
   "metadata": {},
   "outputs": [],
   "source": [
    "%%capture\n",
    "!pip3 install google-auth google-cloud-dialogflow-cx"
   ]
  },
  {
   "cell_type": "code",
   "execution_count": 5,
   "id": "a7bd8571",
   "metadata": {},
   "outputs": [],
   "source": [
    "# https://cloud.google.com/bigquery/docs/notebooks-introduction\n",
    "\n",
    "# https://cloud.google.com/bigquery/docs/notebooks-introduction\n",
    "\n",
    "\n",
    "# # Transparent for google.cloud libraries\n",
    "# from google.cloud import bigquery\n",
    "# client = bigquery.Client()\n",
    "\n",
    "\n"
   ]
  },
  {
   "cell_type": "code",
   "execution_count": 28,
   "id": "b6b0e6c0",
   "metadata": {},
   "outputs": [],
   "source": [
    "from google.cloud import dialogflowcx_v3beta1\n",
    "\n",
    "\n",
    "def list_agents():\n",
    "    # Create a client\n",
    "    client = dialogflowcx_v3beta1.AgentsClient()\n",
    "\n",
    "    # Initialize request argument(s)\n",
    "    request = dialogflowcx_v3beta1.ListAgentsRequest(\n",
    "        parent=\"projects/bot1-404120/locations/global\",\n",
    "    )\n",
    "\n",
    "    # Make the request\n",
    "    page_result = client.list_agents(request=request)\n",
    "\n",
    "    # Handle the response\n",
    "    for response in page_result:\n",
    "        print(response)\n",
    "\n",
    "# [END dialogflow_v3beta1_generated_Agents_ListAgents_sync]"
   ]
  },
  {
   "cell_type": "code",
   "execution_count": 6,
   "id": "3357160e",
   "metadata": {},
   "outputs": [
    {
     "name": "stdout",
     "output_type": "stream",
     "text": [
      "name: projects/bot1-404120/locations/global/agents/1f52228b-df94-4727-9207-61405b75906b,\n",
      "display_name: agent1,\n",
      "default_language_code: en,\n",
      "time_zone: America/Chicago,\n",
      "start_flow: projects/bot1-404120/locations/global/agents/1f52228b-df94-4727-9207-61405b75906b/flows/00000000-0000-0000-0000-000000000000,\n",
      "advanced_settings ,\n",
      "logging_settings ,\n",
      "name: projects/bot1-404120/locations/global/agents/2bde47d7-6de1-43ae-ace3-0aa4f795ba72,\n",
      "display_name: bot-agent2,\n",
      "default_language_code: en,\n",
      "time_zone: America/Chicago,\n",
      "description: I built this agent from the Builder file!,\n",
      "speech_to_text_settings ,\n",
      "enable_speech_adaptation: true,\n",
      "start_flow: projects/bot1-404120/locations/global/agents/2bde47d7-6de1-43ae-ace3-0aa4f795ba72/flows/00000000-0000-0000-0000-000000000000,\n",
      "enable_stackdriver_logging: true,\n",
      "enable_spell_correction: true,\n",
      "advanced_settings ,\n",
      "logging_settings ,\n",
      "enable_stackdriver_logging: true,\n",
      "enable_interaction_logging: true,\n",
      "name: projects/bot1-404120/locations/global/agents/4a2fde83-decc-4656-8995-1cbc2e3eeab4,\n",
      "display_name: bc-records-agent,\n",
      "default_language_code: en,\n",
      "time_zone: America/New_York,\n",
      "start_flow: projects/bot1-404120/locations/global/agents/4a2fde83-decc-4656-8995-1cbc2e3eeab4/flows/00000000-0000-0000-0000-000000000000,\n",
      "advanced_settings ,\n",
      "logging_settings ,\n",
      "name: projects/bot1-404120/locations/global/agents/5eeda6cc-0b99-44d9-a1bc-6ab265229249,\n",
      "display_name: BotCopy Records Virtual Retail Agent,\n",
      "default_language_code: en,\n",
      "time_zone: America/Chicago,\n",
      "start_flow: projects/bot1-404120/locations/global/agents/5eeda6cc-0b99-44d9-a1bc-6ab265229249/flows/00000000-0000-0000-0000-000000000000,\n",
      "advanced_settings ,\n",
      "logging_settings ,\n",
      "name: projects/bot1-404120/locations/global/agents/66ef7ead-1995-446f-a8b8-ade27c601484,\n",
      "display_name: BotCopy Records - Virtual Retail Agent,\n",
      "default_language_code: en,\n",
      "time_zone: America/Chicago,\n",
      "start_flow: projects/bot1-404120/locations/global/agents/66ef7ead-1995-446f-a8b8-ade27c601484/flows/00000000-0000-0000-0000-000000000000,\n",
      "advanced_settings ,\n",
      "logging_settings ,\n",
      "name: projects/bot1-404120/locations/global/agents/694bb9af-b694-43a2-b55e-7efbf1216ce1,\n",
      "display_name: i-see-dead-people,\n",
      "default_language_code: en,\n",
      "time_zone: America/Chicago,\n",
      "start_flow: projects/bot1-404120/locations/global/agents/694bb9af-b694-43a2-b55e-7efbf1216ce1/flows/00000000-0000-0000-0000-000000000000,\n",
      "advanced_settings ,\n",
      "logging_settings ,\n",
      "name: projects/bot1-404120/locations/global/agents/7a071714-8d8c-4f14-969a-c430b27c182a,\n",
      "display_name: testing2,\n",
      "default_language_code: en,\n",
      "time_zone: America/Chicago,\n",
      "start_flow: projects/bot1-404120/locations/global/agents/7a071714-8d8c-4f14-969a-c430b27c182a/flows/00000000-0000-0000-0000-000000000000,\n",
      "advanced_settings ,\n",
      "logging_settings ,\n",
      "name: projects/bot1-404120/locations/global/agents/9b88aefe-20aa-482f-99a7-674c7d8b6b19,\n",
      "display_name: yasss-agent,\n",
      "default_language_code: en,\n",
      "time_zone: America/Chicago,\n",
      "start_flow: projects/bot1-404120/locations/global/agents/9b88aefe-20aa-482f-99a7-674c7d8b6b19/flows/00000000-0000-0000-0000-000000000000,\n",
      "advanced_settings ,\n",
      "logging_settings ,\n",
      "name: projects/bot1-404120/locations/global/agents/ad2ca563-8393-4ef4-be5c-bf9f3494298d,\n",
      "display_name: bc-records,\n",
      "default_language_code: en,\n",
      "time_zone: America/Chicago,\n",
      "start_flow: projects/bot1-404120/locations/global/agents/ad2ca563-8393-4ef4-be5c-bf9f3494298d/flows/00000000-0000-0000-0000-000000000000,\n",
      "advanced_settings ,\n",
      "logging_settings \n"
     ]
    }
   ],
   "source": [
    "%%sh\n",
    "./etl.sh\n",
    "cat agents.csv\n"
   ]
  },
  {
   "cell_type": "code",
   "execution_count": null,
   "id": "d4679c38",
   "metadata": {},
   "outputs": [],
   "source": []
  }
 ],
 "metadata": {
  "kernelspec": {
   "display_name": "Python 3 (ipykernel)",
   "language": "python",
   "name": "python3"
  },
  "language_info": {
   "codemirror_mode": {
    "name": "ipython",
    "version": 3
   },
   "file_extension": ".py",
   "mimetype": "text/x-python",
   "name": "python",
   "nbconvert_exporter": "python",
   "pygments_lexer": "ipython3",
   "version": "3.11.5"
  }
 },
 "nbformat": 4,
 "nbformat_minor": 5
}
