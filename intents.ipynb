{
 "cells": [
  {
   "cell_type": "code",
   "execution_count": 1,
   "id": "cdb16a7f",
   "metadata": {},
   "outputs": [],
   "source": [
    "%%capture\n",
    "!pip install dfcx-scrapi"
   ]
  },
  {
   "cell_type": "markdown",
   "id": "1abb7aca",
   "metadata": {},
   "source": [
    "## imports"
   ]
  },
  {
   "cell_type": "code",
   "execution_count": 3,
   "id": "083202cc",
   "metadata": {},
   "outputs": [],
   "source": [
    "from dfcx_scrapi.core.intents import Intents\n",
    "from dfcx_scrapi.tools.dataframe_functions import DataframeFunctions\n",
    "\n",
    "# For connect to google sheet\n",
    "import gspread\n",
    "from oauth2client.service_account import ServiceAccountCredentials\n",
    "from df2gspread import df2gspread as d2g\n"
   ]
  },
  {
   "cell_type": "markdown",
   "id": "e80591b1",
   "metadata": {},
   "source": [
    "## g-sheets config"
   ]
  },
  {
   "cell_type": "code",
   "execution_count": 7,
   "id": "9efb555a",
   "metadata": {},
   "outputs": [],
   "source": [
    "# service account scopes\n",
    "# master systems analysis and design dxfc g-sheets workbook... Can be viewed and copied at https://itrau.co/dfcx-sad\n",
    "\n",
    "scope = ['https://www.googleapis.com/auth/spreadsheets','https://www.googleapis.com/auth/drive']\n",
    "\n",
    "\n",
    "#authorize sa\n",
    "credentials = ServiceAccountCredentials.from_json_keyfile_name('/Users/christophertrauco/.config/secrets/cx_admin_sa.json', scope)\n",
    "client = gspread.authorize(credentials)\n",
    "spreadsheet_key = '18qvh0uWkA0z7S5CC3xTdvD2wkhsmnINjgxUWmuoCo7M'\n",
    "sh = client.open_by_key(spreadsheet_key)\n",
    "# master systems analysis and design dxfc g-sheets workbook... Can be viewed and copied at https://itrau.co/dfcx-sad\n"
   ]
  },
  {
   "cell_type": "markdown",
   "id": "0e412e01",
   "metadata": {},
   "source": [
    "## agent object attribute mappings\n"
   ]
  },
  {
   "cell_type": "code",
   "execution_count": 9,
   "id": "81bb1563",
   "metadata": {},
   "outputs": [
    {
     "name": "stdout",
     "output_type": "stream",
     "text": [
      "bot1-404120  agent1 global global None  projects/bot1-404120/locations/global/agents/1f52228b-df94-4727-9207-61405b75906b/flows/00000000-0000-0000-0000-000000000000  projects/bot1-404120/locations/global/agents/1f52228b-df94-4727-9207-61405b75906b/flows/00000000-0000-0000-0000-000000000000  America/Chicago\n"
     ]
    }
   ],
   "source": [
    "# object data attribute mappings \n",
    "# master workbook @ https://itrau.co/bc-dfcx-sad-main\n",
    "\n",
    "project_id = sh.worksheet('Main').acell('B2').value\n",
    "display_name = sh.worksheet('Main').acell('B3').value\n",
    "gcp_region = sh.worksheet('Main').acell('B4').value\n",
    "zone = sh.worksheet('Main').acell('B5').value\n",
    "language = sh.worksheet('Main').acell('B6').value\n",
    "default_start_flow = language = sh.worksheet('Main').acell('B8').value\n",
    "time_zone = sh.worksheet('Main').acell('B7').value\n",
    "creds_path = sh.worksheet('Main').acell('B8').value\n",
    "\n",
    "print(project_id, display_name, gcp_region, gcp_region, zone, language, default_start_flow,time_zone)"
   ]
  },
  {
   "cell_type": "code",
   "execution_count": null,
   "id": "85360a0c",
   "metadata": {},
   "outputs": [],
   "source": [
    "### endgoal is heatmap replication of https://itrau.co/heatmap"
   ]
  }
 ],
 "metadata": {
  "kernelspec": {
   "display_name": "Python 3 (ipykernel)",
   "language": "python",
   "name": "python3"
  },
  "language_info": {
   "codemirror_mode": {
    "name": "ipython",
    "version": 3
   },
   "file_extension": ".py",
   "mimetype": "text/x-python",
   "name": "python",
   "nbconvert_exporter": "python",
   "pygments_lexer": "ipython3",
   "version": "3.11.6"
  }
 },
 "nbformat": 4,
 "nbformat_minor": 5
}
