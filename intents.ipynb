{
 "cells": [
  {
   "cell_type": "code",
   "execution_count": 1,
   "id": "3dbca130",
   "metadata": {},
   "outputs": [],
   "source": [
    "%%capture\n",
    "!pip3 install google-auth google-cloud-dialogflow-cx\n",
    "\n"
   ]
  },
  {
   "cell_type": "markdown",
   "id": "727556b5",
   "metadata": {},
   "source": [
    "## imports"
   ]
  },
  {
   "cell_type": "code",
   "execution_count": 2,
   "id": "10345d2d",
   "metadata": {},
   "outputs": [],
   "source": [
    "# dfcx-scrapi\n",
    "from dfcx_scrapi.core.intents import Intents\n",
    "from dfcx_scrapi.tools.dataframe_functions import DataframeFunctions\n",
    "\n",
    "# For connectopm to g-sheets\n",
    "import gspread\n",
    "from oauth2client.service_account import ServiceAccountCredentials\n",
    "from df2gspread import df2gspread as d2g\n",
    "\n",
    "# data manipulation\n",
    "import pandas as pd\n",
    "import numpy as np\n",
    "\n",
    "# general python imports\n",
    "import os"
   ]
  },
  {
   "cell_type": "markdown",
   "id": "7ace2a0f",
   "metadata": {},
   "source": [
    "## g-sheets config"
   ]
  },
  {
   "cell_type": "code",
   "execution_count": 3,
   "id": "95797b78",
   "metadata": {},
   "outputs": [],
   "source": [
    "%%capture\n",
    "# service account scopes\n",
    "# master systems analysis and design dxfc g-sheets workbook... Can be viewed and copied at https://itrau.co/dfcx-sad\n",
    "\n",
    "scope = ['https://www.googleapis.com/auth/spreadsheets','https://www.googleapis.com/auth/drive']\n",
    "\n",
    "\n",
    "#authorize sa\n",
    "credentials = ServiceAccountCredentials.from_json_keyfile_name('/Users/christophertrauco/.config/secrets/cx_admin_sa.json', scope)\n",
    "client = gspread.authorize(credentials)\n",
    "spreadsheet_key = '18qvh0uWkA0z7S5CC3xTdvD2wkhsmnINjgxUWmuoCo7M'\n",
    "sh = client.open_by_key(spreadsheet_key)\n",
    "# master systems analysis and design dxfc g-sheets workbook... Can be viewed and copied at https://itrau.co/dfcx-sad\n"
   ]
  },
  {
   "cell_type": "markdown",
   "id": "13f9564f",
   "metadata": {},
   "source": [
    "## master component ss id index"
   ]
  },
  {
   "cell_type": "code",
   "execution_count": 4,
   "id": "2d5027d5",
   "metadata": {},
   "outputs": [
    {
     "name": "stdout",
     "output_type": "stream",
     "text": [
      "1lt02Hh2B_q_sluK-sAcgqyJ8WbqfZ6qDP_EQJVHPJDo\n"
     ]
    }
   ],
   "source": [
    "# object attribute mapping index\n",
    "bc_sad_dfcx_master = sh.worksheet('Main').acell('B11').value\n",
    "google_sheet_tab_read = sh.worksheet('Main').acell('B12').value\n",
    "\n",
    "\n",
    "\n",
    "intents_ss = sh.worksheet('Index').acell('B1').value\n",
    "intent_ss_output = sh.worksheet('Index').acell('D1').value\n",
    "intent_ss_analysis = sh.worksheet('Index').acell('F1').value\n",
    "intents_ss_hx = sh.worksheet('Index').acell('E1').value\n",
    "\n",
    "print(intents_ss)"
   ]
  },
  {
   "cell_type": "markdown",
   "id": "06302553",
   "metadata": {},
   "source": [
    "## agent object attribute mappings\n"
   ]
  },
  {
   "cell_type": "code",
   "execution_count": 5,
   "id": "bcaa9f9c",
   "metadata": {},
   "outputs": [],
   "source": [
    "# object data attribute mappings \n",
    "# master workbook @ https://itrau.co/bc-dfcx-sad-main\n",
    "\n",
    "project_id = sh.worksheet('Main').acell('B2').value\n",
    "agent_id = sh.worksheet('Main').acell('B13').value\n",
    "display_name = sh.worksheet('Main').acell('B3').value\n",
    "gcp_region = sh.worksheet('Main').acell('B4').value\n",
    "zone = sh.worksheet('Main').acell('B5').value\n",
    "language = sh.worksheet('Main').acell('B6').value\n",
    "default_start_flow = sh.worksheet('Main').acell('B8').value\n",
    "time_zone = sh.worksheet('Main').acell('B7').value\n",
    "creds_path = sh.worksheet('Main').acell('B10').value\n",
    "google_sheet_name = sh.worksheet('Main').acell('B11').value\n",
    "google_sheet_tab_read = sh.worksheet('Main').acell('B12').value\n",
    "\n",
    "# print(project_id, display_name, gcp_region, gcp_region, zone, language, default_start_flow,time_zone)"
   ]
  },
  {
   "cell_type": "code",
   "execution_count": 6,
   "id": "104b4047",
   "metadata": {},
   "outputs": [],
   "source": [
    "os.environ[\"GOOGLE_APPLICATION_CREDENTIALS\"] = creds_path"
   ]
  },
  {
   "cell_type": "code",
   "execution_count": 7,
   "id": "0507804c",
   "metadata": {},
   "outputs": [
    {
     "name": "stdout",
     "output_type": "stream",
     "text": [
      "projects/bot1-404120/locations/global/agents/4a2fde83-decc-4656-8995-1cbc2e3eeab4\n"
     ]
    }
   ],
   "source": [
    "parent_value = sh.worksheet('Main').acell('B13').value\n",
    "print(parent_value)"
   ]
  },
  {
   "cell_type": "markdown",
   "id": "c626a0f1",
   "metadata": {},
   "source": [
    "# output selected agent intents"
   ]
  },
  {
   "cell_type": "raw",
   "id": "621c8d1f",
   "metadata": {},
   "source": [
    "# from google.cloud import dialogflowcx_v3\n",
    "\n",
    "\n",
    "# def list_intents():\n",
    "#     # Create a client\n",
    "#     client = dialogflowcx_v3.IntentsClient()\n",
    "\n",
    "#     # Initialize request argument(s)\n",
    "#     request = dialogflowcx_v3.ListIntentsRequest(\n",
    "#         parent=parent_value,\n",
    "#     )\n",
    "\n",
    "#     # Make the request\n",
    "#     page_result = client.list_intents(request=request)\n",
    "\n",
    "#     # Handle the response\n",
    "#     for response in page_result:\n",
    "#         print(response)\n",
    "\n",
    "# # list_intents()"
   ]
  },
  {
   "cell_type": "code",
   "execution_count": 8,
   "id": "4d39ecf8",
   "metadata": {},
   "outputs": [],
   "source": [
    "%%sh\n",
    "./etl.sh"
   ]
  },
  {
   "cell_type": "code",
   "execution_count": 9,
   "id": "8570af2a",
   "metadata": {},
   "outputs": [
    {
     "ename": "APIError",
     "evalue": "{'code': 400, 'message': 'Invalid requests[0].addSheet: A sheet with the name \"INPUT\" already exists. Please enter another name.', 'status': 'INVALID_ARGUMENT'}",
     "output_type": "error",
     "traceback": [
      "\u001b[0;31m---------------------------------------------------------------------------\u001b[0m",
      "\u001b[0;31mStopIteration\u001b[0m                             Traceback (most recent call last)",
      "File \u001b[0;32m~/anaconda3/lib/python3.11/site-packages/gspread/spreadsheet.py:334\u001b[0m, in \u001b[0;36mSpreadsheet.worksheet\u001b[0;34m(self, title)\u001b[0m\n\u001b[1;32m    333\u001b[0m \u001b[38;5;28;01mtry\u001b[39;00m:\n\u001b[0;32m--> 334\u001b[0m     item \u001b[38;5;241m=\u001b[39m finditem(\n\u001b[1;32m    335\u001b[0m         \u001b[38;5;28;01mlambda\u001b[39;00m x: x[\u001b[38;5;124m\"\u001b[39m\u001b[38;5;124mproperties\u001b[39m\u001b[38;5;124m\"\u001b[39m][\u001b[38;5;124m\"\u001b[39m\u001b[38;5;124mtitle\u001b[39m\u001b[38;5;124m\"\u001b[39m] \u001b[38;5;241m==\u001b[39m title,\n\u001b[1;32m    336\u001b[0m         sheet_data[\u001b[38;5;124m\"\u001b[39m\u001b[38;5;124msheets\u001b[39m\u001b[38;5;124m\"\u001b[39m],\n\u001b[1;32m    337\u001b[0m     )\n\u001b[1;32m    338\u001b[0m     \u001b[38;5;28;01mreturn\u001b[39;00m Worksheet(\u001b[38;5;28mself\u001b[39m, item[\u001b[38;5;124m\"\u001b[39m\u001b[38;5;124mproperties\u001b[39m\u001b[38;5;124m\"\u001b[39m])\n",
      "File \u001b[0;32m~/anaconda3/lib/python3.11/site-packages/gspread/utils.py:137\u001b[0m, in \u001b[0;36mfinditem\u001b[0;34m(func, seq)\u001b[0m\n\u001b[1;32m    136\u001b[0m \u001b[38;5;250m\u001b[39m\u001b[38;5;124;03m\"\"\"Finds and returns first item in iterable for which func(item) is True.\"\"\"\u001b[39;00m\n\u001b[0;32m--> 137\u001b[0m \u001b[38;5;28;01mreturn\u001b[39;00m \u001b[38;5;28mnext\u001b[39m(item \u001b[38;5;28;01mfor\u001b[39;00m item \u001b[38;5;129;01min\u001b[39;00m seq \u001b[38;5;28;01mif\u001b[39;00m func(item))\n",
      "\u001b[0;31mStopIteration\u001b[0m: ",
      "\nDuring handling of the above exception, another exception occurred:\n",
      "\u001b[0;31mWorksheetNotFound\u001b[0m                         Traceback (most recent call last)",
      "File \u001b[0;32m~/anaconda3/lib/python3.11/site-packages/df2gspread/gfiles.py:80\u001b[0m, in \u001b[0;36mget_worksheet\u001b[0;34m(gc, gfile_id, wks_name, write_access, new_sheet_dimensions)\u001b[0m\n\u001b[1;32m     79\u001b[0m \u001b[38;5;28;01mtry\u001b[39;00m:\n\u001b[0;32m---> 80\u001b[0m     wks \u001b[38;5;241m=\u001b[39m spsh\u001b[38;5;241m.\u001b[39mworksheet(wks_name)\n\u001b[1;32m     81\u001b[0m \u001b[38;5;28;01mexcept\u001b[39;00m:\n\u001b[1;32m     82\u001b[0m     \u001b[38;5;66;03m#rows, cols = new_sheet_dimensions\u001b[39;00m\n",
      "File \u001b[0;32m~/anaconda3/lib/python3.11/site-packages/gspread/spreadsheet.py:340\u001b[0m, in \u001b[0;36mSpreadsheet.worksheet\u001b[0;34m(self, title)\u001b[0m\n\u001b[1;32m    339\u001b[0m \u001b[38;5;28;01mexcept\u001b[39;00m (\u001b[38;5;167;01mStopIteration\u001b[39;00m, \u001b[38;5;167;01mKeyError\u001b[39;00m):\n\u001b[0;32m--> 340\u001b[0m     \u001b[38;5;28;01mraise\u001b[39;00m WorksheetNotFound(title)\n",
      "\u001b[0;31mWorksheetNotFound\u001b[0m: INPUT",
      "\nDuring handling of the above exception, another exception occurred:\n",
      "\u001b[0;31mAPIError\u001b[0m                                  Traceback (most recent call last)",
      "Cell \u001b[0;32mIn[9], line 7\u001b[0m\n\u001b[1;32m      5\u001b[0m cell_of_start_df \u001b[38;5;241m=\u001b[39m \u001b[38;5;124m'\u001b[39m\u001b[38;5;124mA1\u001b[39m\u001b[38;5;124m'\u001b[39m\n\u001b[1;32m      6\u001b[0m \u001b[38;5;66;03m# upload the dataframe of the clients we want to delete\u001b[39;00m\n\u001b[0;32m----> 7\u001b[0m d2g\u001b[38;5;241m.\u001b[39mupload(df,\n\u001b[1;32m      8\u001b[0m            intents_ss,\n\u001b[1;32m      9\u001b[0m            wks_name,\n\u001b[1;32m     10\u001b[0m            credentials\u001b[38;5;241m=\u001b[39mcredentials,\n\u001b[1;32m     11\u001b[0m            col_names\u001b[38;5;241m=\u001b[39m\u001b[38;5;28;01mTrue\u001b[39;00m,\n\u001b[1;32m     12\u001b[0m            row_names\u001b[38;5;241m=\u001b[39m\u001b[38;5;28;01mFalse\u001b[39;00m,\n\u001b[1;32m     13\u001b[0m            start_cell \u001b[38;5;241m=\u001b[39m cell_of_start_df,\n\u001b[1;32m     14\u001b[0m            clean\u001b[38;5;241m=\u001b[39m\u001b[38;5;28;01mTrue\u001b[39;00m)\n\u001b[1;32m     15\u001b[0m \u001b[38;5;28mprint\u001b[39m (\u001b[38;5;124m'\u001b[39m\u001b[38;5;124mThe sheet is updated successfully\u001b[39m\u001b[38;5;124m'\u001b[39m)\n",
      "File \u001b[0;32m~/anaconda3/lib/python3.11/site-packages/df2gspread/df2gspread.py:87\u001b[0m, in \u001b[0;36mupload\u001b[0;34m(df, gfile, wks_name, col_names, row_names, clean, credentials, start_cell, df_size, new_sheet_dimensions)\u001b[0m\n\u001b[1;32m     85\u001b[0m \u001b[38;5;28;01mif\u001b[39;00m df_size:\n\u001b[1;32m     86\u001b[0m     new_sheet_dimensions \u001b[38;5;241m=\u001b[39m (\u001b[38;5;28mlen\u001b[39m(df), \u001b[38;5;28mlen\u001b[39m(df\u001b[38;5;241m.\u001b[39mcolumns))\n\u001b[0;32m---> 87\u001b[0m wks \u001b[38;5;241m=\u001b[39m get_worksheet(gc, gfile_id, wks_name, write_access\u001b[38;5;241m=\u001b[39m\u001b[38;5;28;01mTrue\u001b[39;00m,\n\u001b[1;32m     88\u001b[0m     new_sheet_dimensions\u001b[38;5;241m=\u001b[39mnew_sheet_dimensions)\n\u001b[1;32m     89\u001b[0m \u001b[38;5;28;01mif\u001b[39;00m clean:\n\u001b[1;32m     90\u001b[0m     wks \u001b[38;5;241m=\u001b[39m clean_worksheet(wks, gfile_id, wks_name, credentials)\n",
      "File \u001b[0;32m~/anaconda3/lib/python3.11/site-packages/df2gspread/gfiles.py:83\u001b[0m, in \u001b[0;36mget_worksheet\u001b[0;34m(gc, gfile_id, wks_name, write_access, new_sheet_dimensions)\u001b[0m\n\u001b[1;32m     80\u001b[0m         wks \u001b[38;5;241m=\u001b[39m spsh\u001b[38;5;241m.\u001b[39mworksheet(wks_name)\n\u001b[1;32m     81\u001b[0m     \u001b[38;5;28;01mexcept\u001b[39;00m:\n\u001b[1;32m     82\u001b[0m         \u001b[38;5;66;03m#rows, cols = new_sheet_dimensions\u001b[39;00m\n\u001b[0;32m---> 83\u001b[0m         wks \u001b[38;5;241m=\u001b[39m spsh\u001b[38;5;241m.\u001b[39madd_worksheet(\n\u001b[1;32m     84\u001b[0m             wks_name, \u001b[38;5;241m*\u001b[39mnew_sheet_dimensions) \u001b[38;5;28;01mif\u001b[39;00m write_access \u001b[38;5;241m==\u001b[39m \u001b[38;5;28;01mTrue\u001b[39;00m \u001b[38;5;28;01melse\u001b[39;00m \u001b[38;5;28;01mNone\u001b[39;00m\n\u001b[1;32m     86\u001b[0m \u001b[38;5;28;01mreturn\u001b[39;00m wks\n",
      "File \u001b[0;32m~/anaconda3/lib/python3.11/site-packages/gspread/spreadsheet.py:376\u001b[0m, in \u001b[0;36mSpreadsheet.add_worksheet\u001b[0;34m(self, title, rows, cols, index)\u001b[0m\n\u001b[1;32m    373\u001b[0m \u001b[38;5;28;01mif\u001b[39;00m index \u001b[38;5;129;01mis\u001b[39;00m \u001b[38;5;129;01mnot\u001b[39;00m \u001b[38;5;28;01mNone\u001b[39;00m:\n\u001b[1;32m    374\u001b[0m     body[\u001b[38;5;124m\"\u001b[39m\u001b[38;5;124mrequests\u001b[39m\u001b[38;5;124m\"\u001b[39m][\u001b[38;5;241m0\u001b[39m][\u001b[38;5;124m\"\u001b[39m\u001b[38;5;124maddSheet\u001b[39m\u001b[38;5;124m\"\u001b[39m][\u001b[38;5;124m\"\u001b[39m\u001b[38;5;124mproperties\u001b[39m\u001b[38;5;124m\"\u001b[39m][\u001b[38;5;124m\"\u001b[39m\u001b[38;5;124mindex\u001b[39m\u001b[38;5;124m\"\u001b[39m] \u001b[38;5;241m=\u001b[39m index\n\u001b[0;32m--> 376\u001b[0m data \u001b[38;5;241m=\u001b[39m \u001b[38;5;28mself\u001b[39m\u001b[38;5;241m.\u001b[39mbatch_update(body)\n\u001b[1;32m    378\u001b[0m properties \u001b[38;5;241m=\u001b[39m data[\u001b[38;5;124m\"\u001b[39m\u001b[38;5;124mreplies\u001b[39m\u001b[38;5;124m\"\u001b[39m][\u001b[38;5;241m0\u001b[39m][\u001b[38;5;124m\"\u001b[39m\u001b[38;5;124maddSheet\u001b[39m\u001b[38;5;124m\"\u001b[39m][\u001b[38;5;124m\"\u001b[39m\u001b[38;5;124mproperties\u001b[39m\u001b[38;5;124m\"\u001b[39m]\n\u001b[1;32m    380\u001b[0m worksheet \u001b[38;5;241m=\u001b[39m Worksheet(\u001b[38;5;28mself\u001b[39m, properties)\n",
      "File \u001b[0;32m~/anaconda3/lib/python3.11/site-packages/gspread/spreadsheet.py:120\u001b[0m, in \u001b[0;36mSpreadsheet.batch_update\u001b[0;34m(self, body)\u001b[0m\n\u001b[1;32m    111\u001b[0m \u001b[38;5;28;01mdef\u001b[39;00m \u001b[38;5;21mbatch_update\u001b[39m(\u001b[38;5;28mself\u001b[39m, body):\n\u001b[1;32m    112\u001b[0m \u001b[38;5;250m    \u001b[39m\u001b[38;5;124;03m\"\"\"Lower-level method that directly calls `spreadsheets/<ID>:batchUpdate <https://developers.google.com/sheets/api/reference/rest/v4/spreadsheets/batchUpdate>`_.\u001b[39;00m\n\u001b[1;32m    113\u001b[0m \n\u001b[1;32m    114\u001b[0m \u001b[38;5;124;03m    :param dict body: `Request body <https://developers.google.com/sheets/api/reference/rest/v4/spreadsheets/batchUpdate#request-body>`_.\u001b[39;00m\n\u001b[0;32m   (...)\u001b[0m\n\u001b[1;32m    118\u001b[0m \u001b[38;5;124;03m    .. versionadded:: 3.0\u001b[39;00m\n\u001b[1;32m    119\u001b[0m \u001b[38;5;124;03m    \"\"\"\u001b[39;00m\n\u001b[0;32m--> 120\u001b[0m     r \u001b[38;5;241m=\u001b[39m \u001b[38;5;28mself\u001b[39m\u001b[38;5;241m.\u001b[39mclient\u001b[38;5;241m.\u001b[39mrequest(\n\u001b[1;32m    121\u001b[0m         \u001b[38;5;124m\"\u001b[39m\u001b[38;5;124mpost\u001b[39m\u001b[38;5;124m\"\u001b[39m, SPREADSHEET_BATCH_UPDATE_URL \u001b[38;5;241m%\u001b[39m \u001b[38;5;28mself\u001b[39m\u001b[38;5;241m.\u001b[39mid, json\u001b[38;5;241m=\u001b[39mbody\n\u001b[1;32m    122\u001b[0m     )\n\u001b[1;32m    124\u001b[0m     \u001b[38;5;28;01mreturn\u001b[39;00m r\u001b[38;5;241m.\u001b[39mjson()\n",
      "File \u001b[0;32m~/anaconda3/lib/python3.11/site-packages/gspread/client.py:93\u001b[0m, in \u001b[0;36mClient.request\u001b[0;34m(self, method, endpoint, params, data, json, files, headers)\u001b[0m\n\u001b[1;32m     91\u001b[0m     \u001b[38;5;28;01mreturn\u001b[39;00m response\n\u001b[1;32m     92\u001b[0m \u001b[38;5;28;01melse\u001b[39;00m:\n\u001b[0;32m---> 93\u001b[0m     \u001b[38;5;28;01mraise\u001b[39;00m APIError(response)\n",
      "\u001b[0;31mAPIError\u001b[0m: {'code': 400, 'message': 'Invalid requests[0].addSheet: A sheet with the name \"INPUT\" already exists. Please enter another name.', 'status': 'INVALID_ARGUMENT'}"
     ]
    }
   ],
   "source": [
    "df = pd.read_csv('intents.csv', on_bad_lines='skip')\n",
    "# print(df)\n",
    "\n",
    "wks_name = 'Input'\n",
    "cell_of_start_df = 'A1'\n",
    "# upload the dataframe of the clients we want to delete\n",
    "d2g.upload(df,\n",
    "           intents_ss,\n",
    "           wks_name,\n",
    "           credentials=credentials,\n",
    "           col_names=True,\n",
    "           row_names=False,\n",
    "           start_cell = cell_of_start_df,\n",
    "           clean=True)\n",
    "print ('The sheet is updated successfully')"
   ]
  },
  {
   "cell_type": "code",
   "execution_count": null,
   "id": "90843dbe",
   "metadata": {},
   "outputs": [],
   "source": [
    "# agent_id = '<YOUR_AGENT_ID_HERE>'\n",
    "# google_sheet_name = 'My Google Sheet Name'\n",
    "# google_sheet_tab_read = 'Read From My Tab Name'\n",
    "print(agent_id)"
   ]
  },
  {
   "cell_type": "code",
   "execution_count": null,
   "id": "90b6e289",
   "metadata": {},
   "outputs": [],
   "source": [
    "dffx = DataframeFunctions(creds_path)\n",
    "\n",
    "df = dffx.sheets_to_dataframe(google_sheet_name, google_sheet_tab_read)\n",
    "dffx.bulk_update_intents_from_dataframe(agent_id, df, update_flag=True, rate_limiter=1)"
   ]
  },
  {
   "cell_type": "raw",
   "id": "e38e0f3d",
   "metadata": {},
   "source": [
    "# copy og intent values to history(hx)\n",
    "\n",
    "hx = sh.worksheet('Index').acell('E1').value\n",
    "intents_ss = client.open_by_key(intents_ss)\n",
    "\n",
    "\n",
    "# sh.worksheet('Index').acell('F1').value\n",
    "# val = analysis.acell('Q4').value\n",
    "\n",
    "# print(val)\n",
    "# print(hx)\n",
    "print(analysis)"
   ]
  },
  {
   "cell_type": "markdown",
   "id": "311f73a4",
   "metadata": {},
   "source": [
    "## state history changes"
   ]
  },
  {
   "cell_type": "raw",
   "id": "f2285756",
   "metadata": {},
   "source": [
    "hx = client.open_by_key(intents_ss)\n",
    "# print(hx)\n",
    "def history_wks():\n",
    "    if \n",
    "    wks = 'History'\n",
    "    wks = hx.add_worksheet(title=\"History\", rows=1000, cols=30)\n",
    "    print('History worksheet added...')\n",
    "    \n",
    "add_hx_wks()\n",
    "\n",
    "# print(wks)\n",
    "# analysis = intent_ss_analysis\n",
    "# print(analysis)\n",
    "# wks = hx.worksheet('')\n",
    "# values_list = hx.getcol_values(1)\n"
   ]
  },
  {
   "cell_type": "code",
   "execution_count": 10,
   "id": "2cd10e0d",
   "metadata": {},
   "outputs": [],
   "source": [
    "hx = client.open_by_key(intents_ss)\n",
    "\n",
    "history = sh.worksheet('Index').acell('E1').value\n",
    "# print(history)\n",
    "\n",
    "def list_worksheets():\n",
    "    wks = []\n",
    "    wks_list = hx.worksheets()\n",
    "    \n",
    "    for x in wks_list:\n",
    "       wks.append(x)\n",
    "        \n",
    "        \n",
    "    for history in wks_list:\n",
    "        if history in wks_list:\n",
    "            print('History worksheet exists...')\n",
    "            return\n",
    "        else:\n",
    "            print('History worksheet does NOT exist... Making it now. ')\n",
    "            wks = hx.add_worksheet(title=\"History\", rows=1000, cols=30)\n",
    "#     log_message('Checking worksheets...')\n",
    "    return wks_list\n",
    "        "
   ]
  },
  {
   "cell_type": "code",
   "execution_count": null,
   "id": "20634397",
   "metadata": {},
   "outputs": [],
   "source": []
  },
  {
   "cell_type": "code",
   "execution_count": null,
   "id": "c7695f93",
   "metadata": {
    "scrolled": true
   },
   "outputs": [],
   "source": [
    "list_worksheets()"
   ]
  },
  {
   "cell_type": "code",
   "execution_count": null,
   "id": "ddbd58c3",
   "metadata": {},
   "outputs": [],
   "source": []
  },
  {
   "cell_type": "code",
   "execution_count": null,
   "id": "7b1e5656",
   "metadata": {},
   "outputs": [],
   "source": []
  }
 ],
 "metadata": {
  "kernelspec": {
   "display_name": "Python 3 (ipykernel)",
   "language": "python",
   "name": "python3"
  },
  "language_info": {
   "codemirror_mode": {
    "name": "ipython",
    "version": 3
   },
   "file_extension": ".py",
   "mimetype": "text/x-python",
   "name": "python",
   "nbconvert_exporter": "python",
   "pygments_lexer": "ipython3",
   "version": "3.11.5"
  }
 },
 "nbformat": 4,
 "nbformat_minor": 5
}
